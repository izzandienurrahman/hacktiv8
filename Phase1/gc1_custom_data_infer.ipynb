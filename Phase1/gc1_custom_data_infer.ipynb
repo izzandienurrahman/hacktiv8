{
 "cells": [
  {
   "cell_type": "code",
   "execution_count": null,
   "metadata": {},
   "outputs": [],
   "source": [
    "# artificial data infer\n",
    "D_distance = [2.5,0.91,1.79,1.61,1.00]\n",
    "D_surge_multiplier = [1.0,1.0,1.5,2.0,1.0]\n",
    "D_cab_type = ['Lyft','Lyft','Lyft','Uber','Uber']\n",
    "D_service_type = ['Lyft XL','Lux Black XL','Lux','UberPool','UberPool']\n",
    "D_weather = ['Mostly Cloudy','Mostly Cloudy','Mostly Cloudy','Overcast','Partly Cloudy']\n",
    "D = {\n",
    "    'distance':D_distance,\n",
    "    'surge_multiplier':D_surge_multiplier,\n",
    "    'cab_type':D_cab_type,\n",
    "    'service_type':D_service_type,\n",
    "    'weather':D_weather\n",
    "}"
   ]
  }
 ],
 "metadata": {
  "kernelspec": {
   "display_name": "Python 3",
   "language": "python",
   "name": "python3"
  },
  "language_info": {
   "name": "python",
   "version": "3.9.6 (default, Oct 18 2022, 12:41:40) \n[Clang 14.0.0 (clang-1400.0.29.202)]"
  },
  "orig_nbformat": 4,
  "vscode": {
   "interpreter": {
    "hash": "31f2aee4e71d21fbe5cf8b01ff0e069b9275f58929596ceb00d14d90e3e16cd6"
   }
  }
 },
 "nbformat": 4,
 "nbformat_minor": 2
}
