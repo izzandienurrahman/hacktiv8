{
 "cells": [
  {
   "cell_type": "code",
   "execution_count": 66,
   "metadata": {},
   "outputs": [],
   "source": [
    "import mysql.connector"
   ]
  },
  {
   "cell_type": "code",
   "execution_count": 67,
   "metadata": {},
   "outputs": [
    {
     "name": "stdout",
     "output_type": "stream",
     "text": [
      "Successfully connected to MySQL database\n"
     ]
    }
   ],
   "source": [
    "db = mysql.connector.connect(\n",
    "  host=\"localhost\",\n",
    "  user=\"root\",\n",
    "  passwd=\"admin\"\n",
    ")\n",
    "\n",
    "if db.is_connected():\n",
    "  print(\"Successfully connected to MySQL database\")"
   ]
  },
  {
   "cell_type": "code",
   "execution_count": 68,
   "metadata": {},
   "outputs": [],
   "source": [
    "cursor = db.cursor() #select db"
   ]
  },
  {
   "cell_type": "code",
   "execution_count": 69,
   "metadata": {},
   "outputs": [
    {
     "name": "stdout",
     "output_type": "stream",
     "text": [
      "Database Successfully Created\n"
     ]
    }
   ],
   "source": [
    "try:\n",
    "    cursor.execute(\"CREATE DATABASE ftds2\")\n",
    "    print(\"Database Successfully Created\")\n",
    "except:\n",
    "    print(\"Database already exist\")"
   ]
  },
  {
   "cell_type": "code",
   "execution_count": 70,
   "metadata": {},
   "outputs": [
    {
     "ename": "ProgrammingError",
     "evalue": "1050 (42S01): Table 'student' already exists",
     "output_type": "error",
     "traceback": [
      "\u001b[0;31m---------------------------------------------------------------------------\u001b[0m",
      "\u001b[0;31mMySQLInterfaceError\u001b[0m                       Traceback (most recent call last)",
      "File \u001b[0;32m/opt/homebrew/anaconda3/lib/python3.9/site-packages/mysql/connector/connection_cext.py:470\u001b[0m, in \u001b[0;36mCMySQLConnection.cmd_query\u001b[0;34m(self, query, raw, buffered, raw_as_string)\u001b[0m\n\u001b[1;32m    469\u001b[0m         query \u001b[39m=\u001b[39m query\u001b[39m.\u001b[39mencode(\u001b[39m'\u001b[39m\u001b[39mutf-8\u001b[39m\u001b[39m'\u001b[39m)\n\u001b[0;32m--> 470\u001b[0m     \u001b[39mself\u001b[39;49m\u001b[39m.\u001b[39;49m_cmysql\u001b[39m.\u001b[39;49mquery(query,\n\u001b[1;32m    471\u001b[0m                        raw\u001b[39m=\u001b[39;49mraw, buffered\u001b[39m=\u001b[39;49mbuffered,\n\u001b[1;32m    472\u001b[0m                        raw_as_string\u001b[39m=\u001b[39;49mraw_as_string)\n\u001b[1;32m    473\u001b[0m \u001b[39mexcept\u001b[39;00m MySQLInterfaceError \u001b[39mas\u001b[39;00m exc:\n",
      "\u001b[0;31mMySQLInterfaceError\u001b[0m: Table 'student' already exists",
      "\nDuring handling of the above exception, another exception occurred:\n",
      "\u001b[0;31mProgrammingError\u001b[0m                          Traceback (most recent call last)",
      "\u001b[1;32m/Users/izzan/Documents/hacktiv8/Practice/connect.ipynb Cell 5\u001b[0m in \u001b[0;36m<cell line: 16>\u001b[0;34m()\u001b[0m\n\u001b[1;32m      <a href='vscode-notebook-cell:/Users/izzan/Documents/hacktiv8/Practice/connect.ipynb#W3sZmlsZQ%3D%3D?line=7'>8</a>\u001b[0m cursor \u001b[39m=\u001b[39m db\u001b[39m.\u001b[39mcursor() \u001b[39m#select db\u001b[39;00m\n\u001b[1;32m     <a href='vscode-notebook-cell:/Users/izzan/Documents/hacktiv8/Practice/connect.ipynb#W3sZmlsZQ%3D%3D?line=9'>10</a>\u001b[0m sql \u001b[39m=\u001b[39m \u001b[39m\"\"\"\u001b[39m\u001b[39mCREATE TABLE student (\u001b[39m\n\u001b[1;32m     <a href='vscode-notebook-cell:/Users/izzan/Documents/hacktiv8/Practice/connect.ipynb#W3sZmlsZQ%3D%3D?line=10'>11</a>\u001b[0m \u001b[39m  student_id INT AUTO_INCREMENT PRIMARY KEY,\u001b[39m\n\u001b[1;32m     <a href='vscode-notebook-cell:/Users/izzan/Documents/hacktiv8/Practice/connect.ipynb#W3sZmlsZQ%3D%3D?line=11'>12</a>\u001b[0m \u001b[39m  name VARCHAR(255),\u001b[39m\n\u001b[1;32m     <a href='vscode-notebook-cell:/Users/izzan/Documents/hacktiv8/Practice/connect.ipynb#W3sZmlsZQ%3D%3D?line=12'>13</a>\u001b[0m \u001b[39m  address Varchar(255)\u001b[39m\n\u001b[1;32m     <a href='vscode-notebook-cell:/Users/izzan/Documents/hacktiv8/Practice/connect.ipynb#W3sZmlsZQ%3D%3D?line=13'>14</a>\u001b[0m \u001b[39m)\u001b[39m\n\u001b[1;32m     <a href='vscode-notebook-cell:/Users/izzan/Documents/hacktiv8/Practice/connect.ipynb#W3sZmlsZQ%3D%3D?line=14'>15</a>\u001b[0m \u001b[39m\"\"\"\u001b[39m\n\u001b[0;32m---> <a href='vscode-notebook-cell:/Users/izzan/Documents/hacktiv8/Practice/connect.ipynb#W3sZmlsZQ%3D%3D?line=15'>16</a>\u001b[0m cursor\u001b[39m.\u001b[39;49mexecute(sql)\n\u001b[1;32m     <a href='vscode-notebook-cell:/Users/izzan/Documents/hacktiv8/Practice/connect.ipynb#W3sZmlsZQ%3D%3D?line=17'>18</a>\u001b[0m \u001b[39mprint\u001b[39m(\u001b[39m\"\u001b[39m\u001b[39mStudent Table Successfully Created\u001b[39m\u001b[39m\"\u001b[39m)\n",
      "File \u001b[0;32m/opt/homebrew/anaconda3/lib/python3.9/site-packages/mysql/connector/cursor_cext.py:264\u001b[0m, in \u001b[0;36mCMySQLCursor.execute\u001b[0;34m(self, operation, params, multi)\u001b[0m\n\u001b[1;32m    260\u001b[0m             \u001b[39mraise\u001b[39;00m errors\u001b[39m.\u001b[39mProgrammingError(\n\u001b[1;32m    261\u001b[0m                 \u001b[39m\"\u001b[39m\u001b[39mNot all parameters were used in the SQL statement\u001b[39m\u001b[39m\"\u001b[39m)\n\u001b[1;32m    263\u001b[0m \u001b[39mtry\u001b[39;00m:\n\u001b[0;32m--> 264\u001b[0m     result \u001b[39m=\u001b[39m \u001b[39mself\u001b[39;49m\u001b[39m.\u001b[39;49m_cnx\u001b[39m.\u001b[39;49mcmd_query(stmt, raw\u001b[39m=\u001b[39;49m\u001b[39mself\u001b[39;49m\u001b[39m.\u001b[39;49m_raw,\n\u001b[1;32m    265\u001b[0m                                  buffered\u001b[39m=\u001b[39;49m\u001b[39mself\u001b[39;49m\u001b[39m.\u001b[39;49m_buffered,\n\u001b[1;32m    266\u001b[0m                                  raw_as_string\u001b[39m=\u001b[39;49m\u001b[39mself\u001b[39;49m\u001b[39m.\u001b[39;49m_raw_as_string)\n\u001b[1;32m    267\u001b[0m \u001b[39mexcept\u001b[39;00m MySQLInterfaceError \u001b[39mas\u001b[39;00m exc:\n\u001b[1;32m    268\u001b[0m     \u001b[39mraise\u001b[39;00m errors\u001b[39m.\u001b[39mget_mysql_exception(msg\u001b[39m=\u001b[39mexc\u001b[39m.\u001b[39mmsg, errno\u001b[39m=\u001b[39mexc\u001b[39m.\u001b[39merrno,\n\u001b[1;32m    269\u001b[0m                                      sqlstate\u001b[39m=\u001b[39mexc\u001b[39m.\u001b[39msqlstate)\n",
      "File \u001b[0;32m/opt/homebrew/anaconda3/lib/python3.9/site-packages/mysql/connector/connection_cext.py:474\u001b[0m, in \u001b[0;36mCMySQLConnection.cmd_query\u001b[0;34m(self, query, raw, buffered, raw_as_string)\u001b[0m\n\u001b[1;32m    470\u001b[0m     \u001b[39mself\u001b[39m\u001b[39m.\u001b[39m_cmysql\u001b[39m.\u001b[39mquery(query,\n\u001b[1;32m    471\u001b[0m                        raw\u001b[39m=\u001b[39mraw, buffered\u001b[39m=\u001b[39mbuffered,\n\u001b[1;32m    472\u001b[0m                        raw_as_string\u001b[39m=\u001b[39mraw_as_string)\n\u001b[1;32m    473\u001b[0m \u001b[39mexcept\u001b[39;00m MySQLInterfaceError \u001b[39mas\u001b[39;00m exc:\n\u001b[0;32m--> 474\u001b[0m     \u001b[39mraise\u001b[39;00m errors\u001b[39m.\u001b[39mget_mysql_exception(exc\u001b[39m.\u001b[39merrno, msg\u001b[39m=\u001b[39mexc\u001b[39m.\u001b[39mmsg,\n\u001b[1;32m    475\u001b[0m                                      sqlstate\u001b[39m=\u001b[39mexc\u001b[39m.\u001b[39msqlstate)\n\u001b[1;32m    476\u001b[0m \u001b[39mexcept\u001b[39;00m \u001b[39mAttributeError\u001b[39;00m:\n\u001b[1;32m    477\u001b[0m     \u001b[39mif\u001b[39;00m \u001b[39mself\u001b[39m\u001b[39m.\u001b[39m_unix_socket:\n",
      "\u001b[0;31mProgrammingError\u001b[0m: 1050 (42S01): Table 'student' already exists"
     ]
    }
   ],
   "source": [
    "db = mysql.connector.connect(\n",
    "  host=\"localhost\",\n",
    "  user=\"root\",\n",
    "  passwd=\"admin\",\n",
    "  database=\"ftds\"\n",
    ")\n",
    "\n",
    "cursor = db.cursor() #select db\n",
    "\n",
    "sql = \"\"\"CREATE TABLE student (\n",
    "  student_id INT AUTO_INCREMENT PRIMARY KEY,\n",
    "  name VARCHAR(255),\n",
    "  address Varchar(255)\n",
    ")\n",
    "\"\"\"\n",
    "cursor.execute(sql)\n",
    "\n",
    "print(\"Student Table Successfully Created\")"
   ]
  },
  {
   "cell_type": "code",
   "execution_count": null,
   "metadata": {},
   "outputs": [
    {
     "name": "stdout",
     "output_type": "stream",
     "text": [
      "1 data added \n"
     ]
    }
   ],
   "source": [
    "sql = \"INSERT INTO student (name, address) VALUES (%s, %s)\"\n",
    "val = (\"Raka\", \"Semarang\")\n",
    "cursor.execute(sql, val)\n",
    "\n",
    "db.commit()\n",
    "\n",
    "print(\"{} data added \".format(cursor.rowcount))"
   ]
  },
  {
   "cell_type": "code",
   "execution_count": null,
   "metadata": {},
   "outputs": [
    {
     "name": "stdout",
     "output_type": "stream",
     "text": [
      "4 data added\n"
     ]
    }
   ],
   "source": [
    "sql = \"INSERT INTO student (name, address) VALUES (%s, %s)\"\n",
    "values = [\n",
    "  (\"Danu\", \"Jakarta\"),\n",
    "  (\"Fahmi\", \"Surabaya\"),\n",
    "  (\"Sardi\", \"Bandung\"),\n",
    "  (\"Hana\", \"Depok\")\n",
    "]\n",
    "\n",
    "for val in values:\n",
    "  cursor.execute(sql, val)\n",
    "  db.commit()\n",
    "\n",
    "print(\"{} data added\".format(len(values)))"
   ]
  },
  {
   "cell_type": "code",
   "execution_count": 79,
   "metadata": {},
   "outputs": [
    {
     "name": "stdout",
     "output_type": "stream",
     "text": [
      "(1, 'Rachman', 'Lombok')\n",
      "(2, 'Danu', 'Jakarta')\n",
      "(3, 'Fahmi', 'Surabaya')\n",
      "(4, 'Sardi', 'Bandung')\n",
      "(5, 'Hana', 'Depok')\n"
     ]
    }
   ],
   "source": [
    "db = mysql.connector.connect(\n",
    "  host=\"localhost\",\n",
    "  user=\"root\",\n",
    "  passwd=\"admin\",\n",
    "  database=\"ftds\"\n",
    ")\n",
    "\n",
    "cursor = db.cursor()\n",
    "sql = \"SELECT * FROM student\"\n",
    "cursor.execute(sql)\n",
    "\n",
    "results = cursor.fetchall()\n",
    "\n",
    "for data in results:\n",
    "  print(data)"
   ]
  },
  {
   "cell_type": "code",
   "execution_count": 80,
   "metadata": {},
   "outputs": [
    {
     "name": "stdout",
     "output_type": "stream",
     "text": [
      "(1, 'Rachman', 'Lombok')\n"
     ]
    }
   ],
   "source": [
    "db = mysql.connector.connect(\n",
    "  host=\"localhost\",\n",
    "  user=\"root\",\n",
    "  passwd=\"admin\",\n",
    "  database=\"ftds\"\n",
    ")\n",
    "\n",
    "cursor = db.cursor()\n",
    "sql = \"SELECT * FROM student\"\n",
    "cursor.execute(sql)\n",
    "result = cursor.fetchone()\n",
    "print(result)"
   ]
  },
  {
   "cell_type": "code",
   "execution_count": 81,
   "metadata": {},
   "outputs": [
    {
     "name": "stdout",
     "output_type": "stream",
     "text": [
      "0 data updated\n"
     ]
    }
   ],
   "source": [
    "db = mysql.connector.connect(\n",
    "  host=\"localhost\",\n",
    "  user=\"root\",\n",
    "  passwd=\"admin\",\n",
    "  database=\"ftds\"\n",
    ")\n",
    "\n",
    "cursor = db.cursor()\n",
    "sql = \"UPDATE student SET name=%s, address=%s WHERE student_id=%s\"\n",
    "val = (\"Rachman\", \"Lombok\", 1)\n",
    "cursor.execute(sql, val)\n",
    "\n",
    "db.commit()\n",
    "\n",
    "print(\"{} data updated\".format(cursor.rowcount))"
   ]
  },
  {
   "cell_type": "code",
   "execution_count": 83,
   "metadata": {},
   "outputs": [
    {
     "name": "stdout",
     "output_type": "stream",
     "text": [
      "1 data deleted\n"
     ]
    }
   ],
   "source": [
    "db = mysql.connector.connect(\n",
    "  host=\"localhost\",\n",
    "  user=\"root\",\n",
    "  passwd=\"admin\",\n",
    "  database=\"ftds\"\n",
    ")\n",
    "\n",
    "cursor = db.cursor()\n",
    "sql = \"DELETE FROM student WHERE student_id=%s\"\n",
    "val = (1, )\n",
    "cursor.execute(sql, val)\n",
    "\n",
    "db.commit()\n",
    "\n",
    "print(\"{} data deleted\".format(cursor.rowcount))"
   ]
  },
  {
   "cell_type": "code",
   "execution_count": 1,
   "metadata": {},
   "outputs": [
    {
     "name": "stdout",
     "output_type": "stream",
     "text": [
      "=== H8 Py MySQL Exercise ===\n",
      "1. Insert Data\n",
      "2. Show Data\n",
      "3. Update Data\n",
      "4. Delete Data\n",
      "5. Search Data\n",
      "0. Exit\n",
      "------------------\n"
     ]
    }
   ],
   "source": [
    "import mysql.connector\n",
    "import os\n",
    "\n",
    "db = mysql.connector.connect(\n",
    "  host=\"localhost\",\n",
    "  user=\"root\",\n",
    "  passwd=\"admin\",\n",
    "  database=\"ftds\"\n",
    ")\n",
    "\n",
    "\n",
    "def insert_data(db):\n",
    "  name = input(\"Name: \")\n",
    "  address = input(\"Address: \")\n",
    "  val = (name, address)\n",
    "  cursor = db.cursor()\n",
    "  sql = \"INSERT INTO student (name, address) VALUES (%s, %s)\"\n",
    "  cursor.execute(sql, val)\n",
    "  db.commit()\n",
    "  print(\"{} data added\".format(cursor.rowcount))\n",
    "\n",
    "\n",
    "def show_data(db):\n",
    "  cursor = db.cursor()\n",
    "  sql = \"SELECT * FROM student\"\n",
    "  cursor.execute(sql)\n",
    "  results = cursor.fetchall()\n",
    "  \n",
    "  if cursor.rowcount < 0:\n",
    "    print(\"No data\")\n",
    "  else:\n",
    "    for data in results:\n",
    "      print(data)\n",
    "\n",
    "\n",
    "def update_data(db):\n",
    "  cursor = db.cursor()\n",
    "  show_data(db)\n",
    "  student_id = input(\"Select student id> \")\n",
    "  name = input(\"New Name: \")\n",
    "  address = input(\"New Address: \")\n",
    "\n",
    "  sql = \"UPDATE student SET name=%s, address=%s WHERE student_id=%s\"\n",
    "  val = (name, address, student_id)\n",
    "  cursor.execute(sql, val)\n",
    "  db.commit()\n",
    "  print(\"{} data changed\".format(cursor.rowcount))\n",
    "\n",
    "\n",
    "def delete_data(db):\n",
    "  cursor = db.cursor()\n",
    "  show_data(db)\n",
    "  student_id = input(\"Select student id> \")\n",
    "  sql = \"DELETE FROM student WHERE student_id=%s\"\n",
    "  val = (student_id,)\n",
    "  cursor.execute(sql, val)\n",
    "  db.commit()\n",
    "  print(\"{} data deleted\".format(cursor.rowcount))\n",
    "\n",
    "\n",
    "def search_data(db):\n",
    "  cursor = db.cursor()\n",
    "  keyword = input(\"Keyword: \")\n",
    "  sql = \"SELECT * FROM student WHERE name LIKE %s OR address LIKE %s\"\n",
    "  val = (\"%{}%\".format(keyword), \"%{}%\".format(keyword))\n",
    "  cursor.execute(sql, val)\n",
    "  results = cursor.fetchall()\n",
    "  \n",
    "  if cursor.rowcount < 0:\n",
    "    print(\"No Data\")\n",
    "  else:\n",
    "    for data in results:\n",
    "      print(data)\n",
    "\n",
    "\n",
    "def show_menu(db):\n",
    "  print(\"=== H8 Py MySQL Exercise ===\")\n",
    "  print(\"1. Insert Data\")\n",
    "  print(\"2. Show Data\")\n",
    "  print(\"3. Update Data\")\n",
    "  print(\"4. Delete Data\")\n",
    "  print(\"5. Search Data\")\n",
    "  print(\"0. Exit\")\n",
    "  print(\"------------------\")\n",
    "  menu = input(\"Select menu> \")\n",
    "\n",
    "  #clear screen\n",
    "  os.system(\"clear\")\n",
    "\n",
    "  if menu == \"1\":\n",
    "    insert_data(db)\n",
    "  elif menu == \"2\":\n",
    "    show_data(db)\n",
    "  elif menu == \"3\":\n",
    "    update_data(db)\n",
    "  elif menu == \"4\":\n",
    "    delete_data(db)\n",
    "  elif menu == \"5\":\n",
    "    search_data(db)\n",
    "  elif menu == \"0\":\n",
    "    exit()\n",
    "  else:\n",
    "    print(\"Wrong Input\")\n",
    "\n",
    "\n",
    "if __name__ == \"__main__\":\n",
    "  while(True):\n",
    "    show_menu(db)"
   ]
  }
 ],
 "metadata": {
  "kernelspec": {
   "display_name": "base",
   "language": "python",
   "name": "python3"
  },
  "language_info": {
   "codemirror_mode": {
    "name": "ipython",
    "version": 3
   },
   "file_extension": ".py",
   "mimetype": "text/x-python",
   "name": "python",
   "nbconvert_exporter": "python",
   "pygments_lexer": "ipython3",
   "version": "3.9.13 (main, Aug 25 2022, 18:24:45) \n[Clang 12.0.0 ]"
  },
  "orig_nbformat": 4,
  "vscode": {
   "interpreter": {
    "hash": "38cca0c38332a56087b24af0bc80247f4fced29cb4f7f437d91dc159adec9c4e"
   }
  }
 },
 "nbformat": 4,
 "nbformat_minor": 2
}
