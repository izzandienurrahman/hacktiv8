{
 "cells": [
  {
   "cell_type": "code",
   "execution_count": 1,
   "metadata": {},
   "outputs": [],
   "source": [
    "import requests"
   ]
  },
  {
   "cell_type": "code",
   "execution_count": 2,
   "metadata": {},
   "outputs": [
    {
     "data": {
      "text/plain": [
       "<Response [200]>"
      ]
     },
     "execution_count": 2,
     "metadata": {},
     "output_type": "execute_result"
    }
   ],
   "source": [
    "page = requests.get(\"https://www.gramedia.com/categories/buku\")\n",
    "page"
   ]
  },
  {
   "cell_type": "code",
   "execution_count": 3,
   "metadata": {},
   "outputs": [],
   "source": [
    "from bs4 import BeautifulSoup\n",
    "from selenium import webdriver"
   ]
  },
  {
   "cell_type": "code",
   "execution_count": 4,
   "metadata": {},
   "outputs": [
    {
     "name": "stdout",
     "output_type": "stream",
     "text": [
      "<html class=\"\" lang=\"id\">\n",
      " <head>\n",
      "  <base href=\"/\"/>\n",
      "  <meta charset=\"utf-8\"/>\n",
      "  <meta content=\"width=device-width, initial-scale=1\" name=\"viewport\"/>\n",
      "  <meta content=\"#281e5a\" name=\"theme-color\"/>\n",
      "  <meta content=\"index, follow\" name=\"robots\"/>\n",
      "  <link href=\"/assets/favicon.ico\" rel=\"icon\" type=\"image/x-icon\"/>\n",
      "  <link href=\"manifest.json\" rel=\"manifest\"/>\n",
      "  <link href=\"/assets/favicon.ico\" rel=\"shortcut icon\" type=\"image/x-icon\"/>\n",
      "  <meta content=\"z91Vp6ZYo9UoX5D4ur6i4Lrl0l1j3DDoCH08fD3n53g\" name=\"google-site-verification\"/>\n",
      "  <meta content=\"810657685650228\" property=\"fb:app_id\"/>\n",
      "  <style>\n",
      "   .async-hide {\n",
      "        opacity: 0 !important\n",
      "    }\n",
      "  </style>\n",
      "  <script async=\"\" src=\"https://chim\n"
     ]
    }
   ],
   "source": [
    "driver = webdriver.Safari()\n",
    "url=\"https://www.gramedia.com/categories/buku\"\n",
    "driver.get(url)\n",
    "html = driver.page_source\n",
    "soup = BeautifulSoup(html, \"html.parser\")\n",
    "print(soup.prettify()[:700])"
   ]
  },
  {
   "cell_type": "code",
   "execution_count": null,
   "metadata": {},
   "outputs": [],
   "source": []
  },
  {
   "cell_type": "code",
   "execution_count": 5,
   "metadata": {},
   "outputs": [
    {
     "name": "stdout",
     "output_type": "stream",
     "text": [
      "<html class=\"\" lang=\"id\">\n",
      " <head>\n",
      "  <base href=\"/\"/>\n",
      "  <meta charset=\"utf-8\"/>\n",
      "  <meta content=\"width=device-width, initial-scale=1\" name=\"viewport\"/>\n",
      "  <meta content=\"#281e5a\" name=\"theme-color\"/>\n",
      "  <meta content=\"index, follow\" name=\"robots\"/>\n",
      "  <link href=\"/assets/favicon.ico\" rel=\"icon\" type=\"image/x-icon\"/>\n",
      "  <link href=\"manifest.json\" rel=\"manifest\"/>\n",
      "  <link href=\"/assets/favicon.ico\" rel=\"shortcut icon\" type=\"image/x-icon\"/>\n",
      "  <meta content=\"z91Vp6ZYo9UoX5D4ur6i4Lrl0l1j3DDoCH08fD3n53g\" name=\"google-site-verification\"/>\n",
      "  <meta content=\"810657685650228\" property=\"fb:app_id\"/>\n",
      "  <style>\n",
      "   .async-hide {\n",
      "        opacity: 0 !important\n",
      "    }\n",
      "  </style>\n",
      "  <script async=\"\" src=\"https://chim\n"
     ]
    }
   ],
   "source": [
    "print(soup.prettify()[:700])"
   ]
  },
  {
   "cell_type": "code",
   "execution_count": 6,
   "metadata": {},
   "outputs": [
    {
     "data": {
      "text/plain": [
       "[]"
      ]
     },
     "execution_count": 6,
     "metadata": {},
     "output_type": "execute_result"
    }
   ],
   "source": [
    "soup.find_all('div',{\"class\":\"list-title\"})"
   ]
  },
  {
   "cell_type": "code",
   "execution_count": 7,
   "metadata": {},
   "outputs": [],
   "source": [
    "for i,div_tag in enumerate(soup.find_all('div',{\"class\":\"list-title\"})):\n",
    "    print(i+1,div_tag.get_text())"
   ]
  },
  {
   "cell_type": "code",
   "execution_count": 8,
   "metadata": {},
   "outputs": [],
   "source": [
    "for i,div_tag in enumerate(soup.find_all('p',{\"class\":\"div-author\"})):\n",
    "    print(i+1,div_tag.get_text())"
   ]
  },
  {
   "cell_type": "code",
   "execution_count": 9,
   "metadata": {},
   "outputs": [],
   "source": [
    "for i, div_tag in enumerate(soup.find_all('p',{\"class\":\"formats-price\"})):\n",
    "    print(i+1, div_tag.get_text())"
   ]
  },
  {
   "cell_type": "code",
   "execution_count": 10,
   "metadata": {},
   "outputs": [],
   "source": [
    "links = []\n",
    "for tag in soup.find_all( 'div',{\"_ngcontent-web-gramedia-c26\":\"\",\"class\":\"ng-star-inserted\"} ):\n",
    "    try:\n",
    "        links.append(\"https://www.gramedia.com\"+tag.find_all('a',{\"_ngcontent-web-gramedia-c26\":\"\"})[0]['href'])\n",
    "    except:\n",
    "        pass\n",
    "for i in links:\n",
    "    print(i)"
   ]
  },
  {
   "cell_type": "code",
   "execution_count": 11,
   "metadata": {},
   "outputs": [],
   "source": [
    "import pandas as pd\n",
    "import time"
   ]
  },
  {
   "attachments": {},
   "cell_type": "markdown",
   "metadata": {},
   "source": [
    "Load scrapped data into dataframe"
   ]
  },
  {
   "cell_type": "code",
   "execution_count": 12,
   "metadata": {},
   "outputs": [
    {
     "data": {
      "text/html": [
       "<div>\n",
       "<style scoped>\n",
       "    .dataframe tbody tr th:only-of-type {\n",
       "        vertical-align: middle;\n",
       "    }\n",
       "\n",
       "    .dataframe tbody tr th {\n",
       "        vertical-align: top;\n",
       "    }\n",
       "\n",
       "    .dataframe thead th {\n",
       "        text-align: right;\n",
       "    }\n",
       "</style>\n",
       "<table border=\"1\" class=\"dataframe\">\n",
       "  <thead>\n",
       "    <tr style=\"text-align: right;\">\n",
       "      <th></th>\n",
       "      <th>Title</th>\n",
       "      <th>Author</th>\n",
       "      <th>Price</th>\n",
       "      <th>Image</th>\n",
       "      <th>Link</th>\n",
       "    </tr>\n",
       "  </thead>\n",
       "  <tbody>\n",
       "  </tbody>\n",
       "</table>\n",
       "</div>"
      ],
      "text/plain": [
       "Empty DataFrame\n",
       "Columns: [Title, Author, Price, Image, Link]\n",
       "Index: []"
      ]
     },
     "execution_count": 12,
     "metadata": {},
     "output_type": "execute_result"
    }
   ],
   "source": [
    "import pandas as pd\n",
    "\n",
    "data = pd.DataFrame()\n",
    "\n",
    "data['Title'] = [ title.get_text() for title in soup.find_all( 'div', {\"class\":\"list-title\"} ) ]\n",
    "data['Author'] = [ author.get_text() for author in soup.find_all( 'p', {\"class\":\"div-author\"} ) ]\n",
    "data['Price'] = [ price.get_text() for price in soup.find_all( 'p', {\"class\":\"formats-price\"} ) ]\n",
    "data['Image'] = [ img['src'] for img in soup.find_all( 'img',{\"class\":\"product-list-img\"} ) ]\n",
    "\n",
    "links = []\n",
    "for tag in soup.find_all( 'div',{\"_ngcontent-web-gramedia-c26\":\"\",\"class\":\"ng-star-inserted\"} ):\n",
    "    try:\n",
    "        links.append(\"https://www.gramedia.com\"+tag.find_all('a',{\"_ngcontent-web-gramedia-c26\":\"\"})[0]['href'])\n",
    "    except:\n",
    "        pass\n",
    "\n",
    "data['Link'] = links\n",
    "\n",
    "data"
   ]
  },
  {
   "cell_type": "code",
   "execution_count": 13,
   "metadata": {},
   "outputs": [
    {
     "ename": "SessionNotCreatedException",
     "evalue": "Message: Could not create a session: The Safari instance is already paired with another WebDriver session.\n",
     "output_type": "error",
     "traceback": [
      "\u001b[0;31m---------------------------------------------------------------------------\u001b[0m",
      "\u001b[0;31mSessionNotCreatedException\u001b[0m                Traceback (most recent call last)",
      "\u001b[1;32m/Users/izzan/Documents/hacktiv8/Practice/web_scraping_h8.ipynb Cell 15\u001b[0m in \u001b[0;36m<cell line: 7>\u001b[0;34m()\u001b[0m\n\u001b[1;32m      <a href='vscode-notebook-cell:/Users/izzan/Documents/hacktiv8/Practice/web_scraping_h8.ipynb#X20sZmlsZQ%3D%3D?line=3'>4</a>\u001b[0m image \u001b[39m=\u001b[39m []\n\u001b[1;32m      <a href='vscode-notebook-cell:/Users/izzan/Documents/hacktiv8/Practice/web_scraping_h8.ipynb#X20sZmlsZQ%3D%3D?line=4'>5</a>\u001b[0m Links \u001b[39m=\u001b[39m []\n\u001b[0;32m----> <a href='vscode-notebook-cell:/Users/izzan/Documents/hacktiv8/Practice/web_scraping_h8.ipynb#X20sZmlsZQ%3D%3D?line=6'>7</a>\u001b[0m driver \u001b[39m=\u001b[39m webdriver\u001b[39m.\u001b[39;49mSafari()\n\u001b[1;32m      <a href='vscode-notebook-cell:/Users/izzan/Documents/hacktiv8/Practice/web_scraping_h8.ipynb#X20sZmlsZQ%3D%3D?line=8'>9</a>\u001b[0m \u001b[39mfor\u001b[39;00m i \u001b[39min\u001b[39;00m \u001b[39mrange\u001b[39m(\u001b[39m1\u001b[39m,\u001b[39m5\u001b[39m):\n\u001b[1;32m     <a href='vscode-notebook-cell:/Users/izzan/Documents/hacktiv8/Practice/web_scraping_h8.ipynb#X20sZmlsZQ%3D%3D?line=9'>10</a>\u001b[0m     url\u001b[39m=\u001b[39m\u001b[39m\"\u001b[39m\u001b[39mhttps://www.gramedia.com/categories/buku?page=\u001b[39m\u001b[39m{}\u001b[39;00m\u001b[39m\"\u001b[39m\u001b[39m.\u001b[39mformat(i)\n",
      "File \u001b[0;32m/opt/homebrew/anaconda3/lib/python3.9/site-packages/selenium/webdriver/safari/webdriver.py:110\u001b[0m, in \u001b[0;36mWebDriver.__init__\u001b[0;34m(self, port, executable_path, reuse_service, desired_capabilities, quiet, keep_alive, service_args, options, service)\u001b[0m\n\u001b[1;32m    106\u001b[0m     \u001b[39mself\u001b[39m\u001b[39m.\u001b[39mservice\u001b[39m.\u001b[39mstart()\n\u001b[1;32m    108\u001b[0m executor \u001b[39m=\u001b[39m SafariRemoteConnection(remote_server_addr\u001b[39m=\u001b[39m\u001b[39mself\u001b[39m\u001b[39m.\u001b[39mservice\u001b[39m.\u001b[39mservice_url, keep_alive\u001b[39m=\u001b[39mkeep_alive)\n\u001b[0;32m--> 110\u001b[0m \u001b[39msuper\u001b[39;49m()\u001b[39m.\u001b[39;49m\u001b[39m__init__\u001b[39;49m(command_executor\u001b[39m=\u001b[39;49mexecutor, options\u001b[39m=\u001b[39;49moptions, desired_capabilities\u001b[39m=\u001b[39;49mdesired_capabilities)\n\u001b[1;32m    112\u001b[0m \u001b[39mself\u001b[39m\u001b[39m.\u001b[39m_is_remote \u001b[39m=\u001b[39m \u001b[39mFalse\u001b[39;00m\n",
      "File \u001b[0;32m/opt/homebrew/anaconda3/lib/python3.9/site-packages/selenium/webdriver/remote/webdriver.py:286\u001b[0m, in \u001b[0;36mWebDriver.__init__\u001b[0;34m(self, command_executor, desired_capabilities, browser_profile, proxy, keep_alive, file_detector, options)\u001b[0m\n\u001b[1;32m    284\u001b[0m \u001b[39mself\u001b[39m\u001b[39m.\u001b[39m_authenticator_id \u001b[39m=\u001b[39m \u001b[39mNone\u001b[39;00m\n\u001b[1;32m    285\u001b[0m \u001b[39mself\u001b[39m\u001b[39m.\u001b[39mstart_client()\n\u001b[0;32m--> 286\u001b[0m \u001b[39mself\u001b[39;49m\u001b[39m.\u001b[39;49mstart_session(capabilities, browser_profile)\n",
      "File \u001b[0;32m/opt/homebrew/anaconda3/lib/python3.9/site-packages/selenium/webdriver/remote/webdriver.py:378\u001b[0m, in \u001b[0;36mWebDriver.start_session\u001b[0;34m(self, capabilities, browser_profile)\u001b[0m\n\u001b[1;32m    376\u001b[0m w3c_caps \u001b[39m=\u001b[39m _make_w3c_caps(capabilities)\n\u001b[1;32m    377\u001b[0m parameters \u001b[39m=\u001b[39m {\u001b[39m\"\u001b[39m\u001b[39mcapabilities\u001b[39m\u001b[39m\"\u001b[39m: w3c_caps}\n\u001b[0;32m--> 378\u001b[0m response \u001b[39m=\u001b[39m \u001b[39mself\u001b[39;49m\u001b[39m.\u001b[39;49mexecute(Command\u001b[39m.\u001b[39;49mNEW_SESSION, parameters)\n\u001b[1;32m    379\u001b[0m \u001b[39mif\u001b[39;00m \u001b[39m\"\u001b[39m\u001b[39msessionId\u001b[39m\u001b[39m\"\u001b[39m \u001b[39mnot\u001b[39;00m \u001b[39min\u001b[39;00m response:\n\u001b[1;32m    380\u001b[0m     response \u001b[39m=\u001b[39m response[\u001b[39m\"\u001b[39m\u001b[39mvalue\u001b[39m\u001b[39m\"\u001b[39m]\n",
      "File \u001b[0;32m/opt/homebrew/anaconda3/lib/python3.9/site-packages/selenium/webdriver/remote/webdriver.py:440\u001b[0m, in \u001b[0;36mWebDriver.execute\u001b[0;34m(self, driver_command, params)\u001b[0m\n\u001b[1;32m    438\u001b[0m response \u001b[39m=\u001b[39m \u001b[39mself\u001b[39m\u001b[39m.\u001b[39mcommand_executor\u001b[39m.\u001b[39mexecute(driver_command, params)\n\u001b[1;32m    439\u001b[0m \u001b[39mif\u001b[39;00m response:\n\u001b[0;32m--> 440\u001b[0m     \u001b[39mself\u001b[39;49m\u001b[39m.\u001b[39;49merror_handler\u001b[39m.\u001b[39;49mcheck_response(response)\n\u001b[1;32m    441\u001b[0m     response[\u001b[39m\"\u001b[39m\u001b[39mvalue\u001b[39m\u001b[39m\"\u001b[39m] \u001b[39m=\u001b[39m \u001b[39mself\u001b[39m\u001b[39m.\u001b[39m_unwrap_value(response\u001b[39m.\u001b[39mget(\u001b[39m\"\u001b[39m\u001b[39mvalue\u001b[39m\u001b[39m\"\u001b[39m, \u001b[39mNone\u001b[39;00m))\n\u001b[1;32m    442\u001b[0m     \u001b[39mreturn\u001b[39;00m response\n",
      "File \u001b[0;32m/opt/homebrew/anaconda3/lib/python3.9/site-packages/selenium/webdriver/remote/errorhandler.py:245\u001b[0m, in \u001b[0;36mErrorHandler.check_response\u001b[0;34m(self, response)\u001b[0m\n\u001b[1;32m    243\u001b[0m         alert_text \u001b[39m=\u001b[39m value[\u001b[39m\"\u001b[39m\u001b[39malert\u001b[39m\u001b[39m\"\u001b[39m]\u001b[39m.\u001b[39mget(\u001b[39m\"\u001b[39m\u001b[39mtext\u001b[39m\u001b[39m\"\u001b[39m)\n\u001b[1;32m    244\u001b[0m     \u001b[39mraise\u001b[39;00m exception_class(message, screen, stacktrace, alert_text)  \u001b[39m# type: ignore[call-arg]  # mypy is not smart enough here\u001b[39;00m\n\u001b[0;32m--> 245\u001b[0m \u001b[39mraise\u001b[39;00m exception_class(message, screen, stacktrace)\n",
      "\u001b[0;31mSessionNotCreatedException\u001b[0m: Message: Could not create a session: The Safari instance is already paired with another WebDriver session.\n"
     ]
    }
   ],
   "source": [
    "title = []\n",
    "author = []\n",
    "price = []\n",
    "image = []\n",
    "Links = []\n",
    "\n",
    "driver = webdriver.Safari()\n",
    "\n",
    "for i in range(1,5):\n",
    "    url=\"https://www.gramedia.com/categories/buku?page={}\".format(i)\n",
    "    driver.get(url)\n",
    "    html = driver.page_source\n",
    "    soup = BeautifulSoup(html, \"html.parser\")\n",
    "\n",
    "    title += [ title.get_text() for title in soup.find_all( 'div', {\"class\":\"list-title\"} ) ]\n",
    "    author += [ author.get_text() for author in soup.find_all( 'p', {\"class\":\"div-author\"} ) ]\n",
    "    price += [ price.get_text() for price in soup.find_all('p',{\"class\":\"formats-price\"}) ]\n",
    "    image += [ img['src'] for img in soup.find_all( 'img',{\"class\":\"product-list-img\"} ) ]\n",
    "\n",
    "    links = []\n",
    "    for tag in soup.find_all( 'div',{\"_ngcontent-web-gramedia-c26\":\"\",\"class\":\"ng-star-inserted\"} ):\n",
    "        try:\n",
    "            links.append(\"https://www.gramedia.com\"+tag.find_all('a',{\"_ngcontent-web-gramedia-c26\":\"\"})[0]['href'])\n",
    "        except:\n",
    "            pass\n",
    "    Links += links\n",
    "    time.sleep(1)\n",
    "\n",
    "data_multipage = pd.DataFrame()\n",
    "data_multipage['Title'] = title\n",
    "data_multipage['Author'] = author\n",
    "data_multipage['Price'] = price\n",
    "data_multipage['Image'] = image\n",
    "data_multipage['Link'] = Links"
   ]
  },
  {
   "cell_type": "code",
   "execution_count": null,
   "metadata": {},
   "outputs": [
    {
     "data": {
      "text/plain": [
       "[]"
      ]
     },
     "execution_count": 85,
     "metadata": {},
     "output_type": "execute_result"
    }
   ],
   "source": [
    "[title.get_text() for title in soup.find_all( 'div', {\"class\":\"list-title\"} )]"
   ]
  },
  {
   "cell_type": "code",
   "execution_count": null,
   "metadata": {},
   "outputs": [],
   "source": [
    "for title in soup.find_all('div',{\"class\":\"list-title\"}):\n",
    "    print(title.get_text())"
   ]
  }
 ],
 "metadata": {
  "kernelspec": {
   "display_name": "base",
   "language": "python",
   "name": "python3"
  },
  "language_info": {
   "codemirror_mode": {
    "name": "ipython",
    "version": 3
   },
   "file_extension": ".py",
   "mimetype": "text/x-python",
   "name": "python",
   "nbconvert_exporter": "python",
   "pygments_lexer": "ipython3",
   "version": "3.9.13 (main, Aug 25 2022, 18:24:45) \n[Clang 12.0.0 ]"
  },
  "orig_nbformat": 4,
  "vscode": {
   "interpreter": {
    "hash": "38cca0c38332a56087b24af0bc80247f4fced29cb4f7f437d91dc159adec9c4e"
   }
  }
 },
 "nbformat": 4,
 "nbformat_minor": 2
}
