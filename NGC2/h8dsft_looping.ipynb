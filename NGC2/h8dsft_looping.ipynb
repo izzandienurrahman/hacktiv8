{
  "nbformat": 4,
  "nbformat_minor": 0,
  "metadata": {
    "colab": {
      "provenance": [],
      "authorship_tag": "ABX9TyMaaThoh1ptWKWScTyUpLQr",
      "include_colab_link": true
    },
    "kernelspec": {
      "name": "python3",
      "display_name": "Python 3"
    },
    "language_info": {
      "name": "python"
    }
  },
  "cells": [
    {
      "cell_type": "markdown",
      "metadata": {
        "id": "view-in-github",
        "colab_type": "text"
      },
      "source": [
        "<a href=\"https://colab.research.google.com/github/izzandienurrahman/hacktiv8/blob/main/h8dsft_looping.ipynb\" target=\"_parent\"><img src=\"https://colab.research.google.com/assets/colab-badge.svg\" alt=\"Open In Colab\"/></a>"
      ]
    },
    {
      "cell_type": "markdown",
      "source": [
        "Initialize list of numbers"
      ],
      "metadata": {
        "id": "eipQU02H_9ja"
      }
    },
    {
      "cell_type": "code",
      "execution_count": null,
      "metadata": {
        "id": "1nfSShtQ_vsH"
      },
      "outputs": [],
      "source": [
        "  numbers = [\n",
        "  951, 402, 984, 651, 360, 69, 408, 319, 601, 485, 980, 507, 725, 547, 544, 615, 83, 165, 141, 501, 263, 617, 865, 575, 219, 390, 984, 592, 236, 105, 942, 941, 386, 462, 47, 418, 907, 344, 236, 375, 823, 566, 597, 978, 328, 615, 953, 345, 399, 162, 758, 219, 918, 237, 412, 566, 826, 248, 866, 950, 626, 949\n",
        "  ]"
      ]
    },
    {
      "cell_type": "markdown",
      "source": [
        "Print even numbers in sequence, stopping after encountering 918 and print \"Done\" afterwards."
      ],
      "metadata": {
        "id": "-W4XF0alAG6s"
      }
    },
    {
      "cell_type": "code",
      "source": [
        "for e in numbers:\n",
        "  if(e%2 == 0):\n",
        "    if(e==918):\n",
        "      break\n",
        "    else:\n",
        "      print(e)\n",
        "print(\"Done.\")"
      ],
      "metadata": {
        "colab": {
          "base_uri": "https://localhost:8080/"
        },
        "id": "E3-QDHqFAc1A",
        "outputId": "e86eb851-7e67-442d-8a3d-66f5c5d758e9"
      },
      "execution_count": 3,
      "outputs": [
        {
          "output_type": "stream",
          "name": "stdout",
          "text": [
            "402\n",
            "984\n",
            "360\n",
            "408\n",
            "980\n",
            "544\n",
            "390\n",
            "984\n",
            "592\n",
            "236\n",
            "942\n",
            "386\n",
            "462\n",
            "418\n",
            "344\n",
            "236\n",
            "566\n",
            "978\n",
            "328\n",
            "162\n",
            "758\n",
            "Done.\n"
          ]
        }
      ]
    }
  ]
}