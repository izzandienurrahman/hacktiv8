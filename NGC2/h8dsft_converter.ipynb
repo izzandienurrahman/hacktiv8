{
 "cells": [
  {
   "cell_type": "code",
   "execution_count": 1,
   "metadata": {},
   "outputs": [],
   "source": [
    "# fungsi konversi dari kelvin ke celsius\n",
    "def kelvin_to_celsius(temp):\n",
    "    return temp - 273.15"
   ]
  },
  {
   "cell_type": "code",
   "execution_count": 2,
   "metadata": {},
   "outputs": [],
   "source": [
    "# fungsi konversi dari celsius ke kelvin\n",
    "def celsius_to_kelvin(temp):\n",
    "    return temp + 273.15"
   ]
  },
  {
   "cell_type": "code",
   "execution_count": 3,
   "metadata": {},
   "outputs": [],
   "source": [
    "# fungsi konversi ke fahrenheit\n",
    "def to_fahrenheit(temp,scale_origin):\n",
    "    if scale_origin.lower() == \"celsius\": # cek apabila target konversi dari celsius\n",
    "        return (temp * 9/5) + 32\n",
    "    elif scale_origin.lower() == \"kelvin\": # cek apabila target konversi dari kelvin\n",
    "        return (kelvin_to_celsius(temp) * 9/5) + 32\n",
    "    else: # cek apabila target konversi tidak keduanya\n",
    "        print(\"Pastikan suhu yang ingin dikonversi adalah celsius / kelvin\")"
   ]
  },
  {
   "cell_type": "code",
   "execution_count": 4,
   "metadata": {},
   "outputs": [],
   "source": [
    "def from_fahrenheit(temp,scale_target):\n",
    "    if scale_target.lower() == \"celsius\": # cek apabila target konversi ke celsius\n",
    "        return (temp - 32)*5/9\n",
    "    elif scale_target.lower() == \"kelvin\": # cek apabila target konversi ke kelvin\n",
    "        return (temp - 32) * 5/9 + 273.15\n",
    "    else:  # cek apabila target konversi tidak keduanya\n",
    "        print(\"Pastikan target konversi adalah celsius / kelvin\")"
   ]
  },
  {
   "cell_type": "code",
   "execution_count": 11,
   "metadata": {},
   "outputs": [
    {
     "data": {
      "text/plain": [
       "0.0"
      ]
     },
     "execution_count": 11,
     "metadata": {},
     "output_type": "execute_result"
    }
   ],
   "source": [
    "# tes fungsi \n",
    "a = kelvin_to_celsius(273.15)\n",
    "a"
   ]
  },
  {
   "cell_type": "code",
   "execution_count": 12,
   "metadata": {},
   "outputs": [
    {
     "data": {
      "text/plain": [
       "546.3"
      ]
     },
     "execution_count": 12,
     "metadata": {},
     "output_type": "execute_result"
    }
   ],
   "source": [
    "b = celsius_to_kelvin(273.15)\n",
    "b"
   ]
  },
  {
   "cell_type": "code",
   "execution_count": 15,
   "metadata": {},
   "outputs": [
    {
     "data": {
      "text/plain": [
       "89.6"
      ]
     },
     "execution_count": 15,
     "metadata": {},
     "output_type": "execute_result"
    }
   ],
   "source": [
    "c = to_fahrenheit(temp=32,scale_origin=\"Celsius\")\n",
    "c"
   ]
  },
  {
   "cell_type": "code",
   "execution_count": 16,
   "metadata": {},
   "outputs": [
    {
     "data": {
      "text/plain": [
       "-402.07"
      ]
     },
     "execution_count": 16,
     "metadata": {},
     "output_type": "execute_result"
    }
   ],
   "source": [
    "c = to_fahrenheit(temp=32,scale_origin=\"kelvin\")\n",
    "c"
   ]
  },
  {
   "cell_type": "code",
   "execution_count": 17,
   "metadata": {},
   "outputs": [
    {
     "data": {
      "text/plain": [
       "0.0"
      ]
     },
     "execution_count": 17,
     "metadata": {},
     "output_type": "execute_result"
    }
   ],
   "source": [
    "d = from_fahrenheit(temp=32,scale_target=\"celsius\")\n",
    "d"
   ]
  },
  {
   "cell_type": "code",
   "execution_count": 18,
   "metadata": {},
   "outputs": [
    {
     "data": {
      "text/plain": [
       "273.15"
      ]
     },
     "execution_count": 18,
     "metadata": {},
     "output_type": "execute_result"
    }
   ],
   "source": [
    "d = from_fahrenheit(temp=32,scale_target=\"kelvin\")\n",
    "d\n",
    "# semua hasil tes sudah di crosscheck dengan google."
   ]
  }
 ],
 "metadata": {
  "kernelspec": {
   "display_name": "Python 3.9.13 ('base')",
   "language": "python",
   "name": "python3"
  },
  "language_info": {
   "codemirror_mode": {
    "name": "ipython",
    "version": 3
   },
   "file_extension": ".py",
   "mimetype": "text/x-python",
   "name": "python",
   "nbconvert_exporter": "python",
   "pygments_lexer": "ipython3",
   "version": "3.9.13"
  },
  "orig_nbformat": 4,
  "vscode": {
   "interpreter": {
    "hash": "38cca0c38332a56087b24af0bc80247f4fced29cb4f7f437d91dc159adec9c4e"
   }
  }
 },
 "nbformat": 4,
 "nbformat_minor": 2
}
